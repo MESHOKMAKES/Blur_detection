{
  "cells": [
    {
      "cell_type": "code",
      "execution_count": null,
      "metadata": {
        "id": "gdFgSJQ1R-o5"
      },
      "outputs": [],
      "source": [
        "from google.colab import drive\n",
        "drive.mount('/content/drive')"
      ]
    },
    {
      "cell_type": "markdown",
      "metadata": {
        "id": "DDzky555kK3y"
      },
      "source": [
        "Custom DF"
      ]
    },
    {
      "cell_type": "code",
      "execution_count": null,
      "metadata": {
        "colab": {
          "base_uri": "https://localhost:8080/"
        },
        "id": "XhK8gJnfSxAV",
        "outputId": "9cc0254d-3817-43d6-be8c-3345ac67459e"
      },
      "outputs": [
        {
          "name": "stdout",
          "output_type": "stream",
          "text": [
            "Looking in indexes: https://pypi.org/simple, https://us-python.pkg.dev/colab-wheels/public/simple/\n",
            "Requirement already satisfied: torchmetrics in /usr/local/lib/python3.8/dist-packages (0.11.0)\n",
            "Requirement already satisfied: numpy>=1.17.2 in /usr/local/lib/python3.8/dist-packages (from torchmetrics) (1.21.6)\n",
            "Requirement already satisfied: packaging in /usr/local/lib/python3.8/dist-packages (from torchmetrics) (21.3)\n",
            "Requirement already satisfied: torch>=1.8.1 in /usr/local/lib/python3.8/dist-packages (from torchmetrics) (1.13.0+cu116)\n",
            "Requirement already satisfied: typing-extensions in /usr/local/lib/python3.8/dist-packages (from torchmetrics) (4.4.0)\n",
            "Requirement already satisfied: pyparsing!=3.0.5,>=2.0.2 in /usr/local/lib/python3.8/dist-packages (from packaging->torchmetrics) (3.0.9)\n"
          ]
        }
      ],
      "source": [
        "!pip install torchmetrics"
      ]
    },
    {
      "cell_type": "code",
      "execution_count": null,
      "metadata": {
        "id": "s5T8fUlvkQCl"
      },
      "outputs": [],
      "source": [
        "import torch\n",
        "from torch.utils.data import Dataset\n",
        "from torchvision import datasets\n",
        "from torchvision.transforms import ToTensor\n",
        "from torchvision import transforms\n",
        "import cv2\n",
        "from torchvision.transforms import ToPILImage\n",
        "import pandas as pd\n",
        "from torch.utils.data import DataLoader\n",
        "from sklearn.model_selection import train_test_split\n",
        "import numpy as np\n",
        "from torchmetrics import AUROC\n",
        "from torchmetrics.classification import BinaryAccuracy as Accuracy\n",
        "from PIL import Image, ImageFilter\n",
        "import random"
      ]
    },
    {
      "cell_type": "code",
      "execution_count": null,
      "metadata": {
        "id": "9YiIp_PKjk6X"
      },
      "outputs": [],
      "source": [
        "class CustomImageDataset(Dataset):\n",
        "    def __init__(self, dataframe=None, img_dir=None, for_train=True):\n",
        "        self.img_labels = dataframe\n",
        "        self.img_dir = img_dir\n",
        "        self.transform = transforms.Compose([\n",
        "            ToPILImage(),\n",
        "            transforms.Resize(256),\n",
        "            transforms.CenterCrop(224),\n",
        "            transforms.ToTensor(),\n",
        "            transforms.Normalize(mean=[0.485, 0.456, 0.406], std=[0.229, 0.224, 0.225]),\n",
        "            ])\n",
        "        self.for_train=for_train\n",
        "\n",
        "    def __len__(self):\n",
        "        return len(self.img_labels)\n",
        "\n",
        "    def __getitem__(self, idx):\n",
        "        img = cv2.imread(self.img_dir + self.img_labels.iloc[idx, 0])\n",
        "        image = cv2.cvtColor(img, cv2.COLOR_BGR2RGB)\n",
        "        label = self.img_labels.iloc[idx, 1]\n",
        "        # threshold = random.randint(0, 100) / 100\n",
        "        if self.transform:\n",
        "            # if threshold < 0.5 and label == 0.0 and self.for_train is True:\n",
        "            #     image = cv2.GaussianBlur(image,(5,5),0)\n",
        "            #     label = 1.0\n",
        "            image = self.transform(image)\n",
        "        return image, label"
      ]
    },
    {
      "cell_type": "code",
      "execution_count": null,
      "metadata": {
        "id": "yxe4Pw_leqSZ"
      },
      "outputs": [],
      "source": [
        "df = pd.read_csv('shift-cv-winter-2023/train.csv')\n",
        "train_df, val_df = train_test_split(df, test_size=0.2)\n",
        "# train_df = pd.read_csv('CFT_v2\\CFT_train.csv')\n",
        "# val_df = pd.read_csv('CFT_v2\\CFT_val.csv')"
      ]
    },
    {
      "cell_type": "code",
      "execution_count": null,
      "metadata": {
        "id": "ElZqpyGamqb3"
      },
      "outputs": [],
      "source": [
        "df_train = CustomImageDataset(train_df, 'shift-cv-winter-2023/train/train/')\n",
        "train_loader = DataLoader(df_train, batch_size=32, shuffle=True)\n",
        "df_val = CustomImageDataset(val_df, 'shift-cv-winter-2023/train/train/')\n",
        "val_loader = DataLoader(df_val, batch_size=32)"
      ]
    },
    {
      "cell_type": "code",
      "execution_count": null,
      "metadata": {
        "colab": {
          "base_uri": "https://localhost:8080/",
          "height": 334
        },
        "id": "LqDTBnFILMs4",
        "outputId": "7d0c5aef-6e1f-4be8-b454-d3a98c52f9d8"
      },
      "outputs": [
        {
          "data": {
            "text/plain": [
              "(array([1077.,    0.,    0.,    0.,    0.,    0.,    0.,    0.,    0.,\n",
              "        1054.]),\n",
              " array([0. , 0.1, 0.2, 0.3, 0.4, 0.5, 0.6, 0.7, 0.8, 0.9, 1. ]),\n",
              " <BarContainer object of 10 artists>)"
            ]
          },
          "execution_count": 5,
          "metadata": {},
          "output_type": "execute_result"
        },
        {
          "data": {
            "image/png": "[encoded data removed]",
            "text/plain": [
              "<Figure size 640x480 with 1 Axes>"
            ]
          },
          "metadata": {},
          "output_type": "display_data"
        }
      ],
      "source": [
        "import matplotlib.pyplot as plt\n",
        "plt.hist(train_df['blur'])"
      ]
    },
    {
      "cell_type": "code",
      "execution_count": null,
      "metadata": {
        "colab": {
          "base_uri": "https://localhost:8080/",
          "height": 317
        },
        "id": "Yd9cAY4CMGrA",
        "outputId": "7ac60465-fdf6-47b4-d145-488379ac24d6"
      },
      "outputs": [
        {
          "data": {
            "text/plain": [
              "(array([290.,   0.,   0.,   0.,   0.,   0.,   0.,   0.,   0., 243.]),\n",
              " array([0. , 0.1, 0.2, 0.3, 0.4, 0.5, 0.6, 0.7, 0.8, 0.9, 1. ]),\n",
              " <BarContainer object of 10 artists>)"
            ]
          },
          "execution_count": 6,
          "metadata": {},
          "output_type": "execute_result"
        },
        {
          "data": {
            "image/png": "[encoded data removed]",
            "text/plain": [
              "<Figure size 640x480 with 1 Axes>"
            ]
          },
          "metadata": {},
          "output_type": "display_data"
        }
      ],
      "source": [
        "plt.hist(val_df['blur'])"
      ]
    },
    {
      "cell_type": "code",
      "execution_count": null,
      "metadata": {
        "id": "-5PwQ8zsFCEJ"
      },
      "outputs": [],
      "source": [
        "# train_df.to_csv('CFT_train.csv')\n",
        "# val_df.to_csv('CFT_val.csv')"
      ]
    },
    {
      "cell_type": "code",
      "execution_count": null,
      "metadata": {
        "id": "jupjfPfU88P-"
      },
      "outputs": [],
      "source": [
        "class MyModel(torch.nn.Module):\n",
        "  def __init__(self):\n",
        "    super(MyModel, self).__init__()\n",
        "    self.resnet50 = torch.hub.load('pytorch/vision:v0.10.0', 'resnet152', pretrained=True)\n",
        "    self.seq1 = torch.nn.Sequential(torch.nn.Sigmoid(),\n",
        "                                    torch.nn.Linear(1000, 500),\n",
        "                                    torch.nn.ReLU(),\n",
        "                                    torch.nn.Linear(500, 200),\n",
        "                                    torch.nn.Sigmoid(),\n",
        "                                    torch.nn.Linear(200, 50),\n",
        "                                    torch.nn.ReLU(),\n",
        "                                    torch.nn.Linear(50, 2)\n",
        "                                    )\n",
        "    # self.sigm = torch.nn.Sigmoid()\n",
        "  \n",
        "  def forward(self, x):\n",
        "    x = self.resnet50(x)\n",
        "    x = self.seq1(x)\n",
        "    return x # self.sigm(x)"
      ]
    },
    {
      "cell_type": "code",
      "execution_count": null,
      "metadata": {
        "id": "dKABhZuaEVU3"
      },
      "outputs": [],
      "source": [
        "import torch.nn.functional as F\n",
        "class FocalLoss(torch.nn.modules.loss._WeightedLoss):\n",
        "    def __init__(self, weight=None, gamma=2, reduction='mean'):\n",
        "        super(FocalLoss, self).__init__(weight, reduction=reduction)\n",
        "        self.gamma = gamma\n",
        "        self.weight = weight\n",
        "        \n",
        "    def forward(self, input, target):\n",
        "        ce_loss = F.cross_entropy(input, target, reduction=self.reduction, weight=self.weight)\n",
        "        pt = torch.exp(-ce_loss)\n",
        "        focal_loss = ((1-pt)**self.gamma*ce_loss).mean()\n",
        "        \n",
        "        return focal_loss"
      ]
    },
    {
      "cell_type": "code",
      "execution_count": null,
      "metadata": {
        "id": "ihdfplISEVU3"
      },
      "outputs": [],
      "source": [
        "# import os\n",
        "# os.environ[\"PYTORCH_CUDA_ALLOC_CONF\"] = 'max_split_size_mb:<256>'"
      ]
    },
    {
      "cell_type": "code",
      "execution_count": null,
      "metadata": {
        "id": "xRcTHS2YEVU4",
        "outputId": "be58db07-b6f9-482a-b7e4-93fc8ff8db30"
      },
      "outputs": [
        {
          "name": "stderr",
          "output_type": "stream",
          "text": [
            "Using cache found in C:\\Users\\ROMMI/.cache\\torch\\hub\\pytorch_vision_v0.10.0\n",
            "e:\\тестовые\\CFT\\env\\lib\\site-packages\\torchvision\\models\\_utils.py:208: UserWarning: The parameter 'pretrained' is deprecated since 0.13 and may be removed in the future, please use 'weights' instead.\n",
            "  warnings.warn(\n",
            "e:\\тестовые\\CFT\\env\\lib\\site-packages\\torchvision\\models\\_utils.py:223: UserWarning: Arguments other than a weight enum or `None` for 'weights' are deprecated since 0.13 and may be removed in the future. The current behavior is equivalent to passing `weights=ResNet152_Weights.IMAGENET1K_V1`. You can also use `weights=ResNet152_Weights.DEFAULT` to get the most up-to-date weights.\n",
            "  warnings.warn(msg)\n"
          ]
        }
      ],
      "source": [
        "from torch.optim.lr_scheduler import ReduceLROnPlateau\n",
        "import torch.optim as optim\n",
        "from sklearn.utils.class_weight import compute_class_weight\n",
        "device = torch.device(\"cuda\" if torch.cuda.is_available() else \"cpu\")\n",
        "model = MyModel().to(device)\n",
        "class_wts = compute_class_weight(class_weight='balanced', classes=np.unique(list(train_df['blur'])), y=list(train_df['blur']))\n",
        "weights = torch.tensor(class_wts, dtype=torch.float)\n",
        "weights = weights.to(device)\n",
        "epochs = 30\n",
        "# tst = pd.read_csv('shift-cv-winter-2023/sample_submission.csv')\n",
        "# df_test = CustomImageDataset(tst, 'shift-cv-winter-2023/test/test/')\n",
        "# test_loader = DataLoader(df_test, 32, shuffle=False)\n",
        "optimizer = optim.AdamW(model.parameters(), lr=0.001)\n",
        "scheduler = ReduceLROnPlateau(optimizer, factor=0.5, patience=2,verbose=True)\n",
        "criterion = FocalLoss(weight=weights)\n",
        "metric_aucroc = AUROC(task=\"binary\").to(device)\n",
        "metric_accuracy = Accuracy().to(device)"
      ]
    },
    {
      "cell_type": "code",
      "execution_count": null,
      "metadata": {
        "id": "iKT7kEw1uE0Y"
      },
      "outputs": [],
      "source": [
        "def train():\n",
        "  \n",
        "    model.train()\n",
        "\n",
        "    total_loss = 0.0\n",
        "  \n",
        "    total_preds=[]\n",
        "\n",
        "    acc_train = 0.0\n",
        "\n",
        "    aucroc_ = 0.0\n",
        "  \n",
        "    for step,batch in enumerate(train_loader):\n",
        "        if step % 50 == 0 and not step == 0:\n",
        "            print('  Batch {:>5,}  of  {:>5,}.'.format(step, len(train_loader)))\n",
        "        batch = [r.to(device) for r in batch]\n",
        "        \n",
        "        images, labels = batch\n",
        "\n",
        "        labels = labels.type(torch.LongTensor).to(device)\n",
        "\n",
        "        model.zero_grad() \n",
        "        \n",
        "        preds = model(images)\n",
        "        \n",
        "        loss = criterion(preds, labels)\n",
        "\n",
        "        total_loss = total_loss + loss.item()\n",
        "\n",
        "        preds = torch.argmax(preds, dim = 1)\n",
        "\n",
        "        aucroc_ += metric_aucroc(preds, labels.squeeze())\n",
        "        acc_train += metric_accuracy(preds, labels.squeeze())\n",
        "        \n",
        "        loss.backward()\n",
        "        optimizer.step()\n",
        "        preds=preds.detach().cpu().numpy()\n",
        "\n",
        "        total_preds.append(preds)\n",
        "\n",
        "    avg_loss = total_loss / len(train_loader)\n",
        "\n",
        "    avg_acc = acc_train / len(train_loader)\n",
        "\n",
        "    avg_aucroc = aucroc_ / len(train_loader)\n",
        "\n",
        "    total_preds  = np.concatenate(total_preds, axis=0)\n",
        "\n",
        "    return avg_loss, avg_acc, avg_aucroc, total_preds"
      ]
    },
    {
      "cell_type": "code",
      "execution_count": null,
      "metadata": {
        "id": "EuyZaulfuTWp"
      },
      "outputs": [],
      "source": [
        "def evaluate(loader):\n",
        "  \n",
        "    print(\"\\nEvaluating...\")\n",
        "  \n",
        "    model.eval()\n",
        "\n",
        "    total_loss = 0.0\n",
        "  \n",
        "    total_preds = []\n",
        "\n",
        "    acc_ = 0.0\n",
        "\n",
        "    aucroc_ = 0.0\n",
        "\n",
        "    for step,batch in enumerate(loader):\n",
        "    \n",
        "        if step % 50 == 0 and not step == 0:\n",
        "                  \n",
        "            print('  Batch {:>5,}  of  {:>5,}.'.format(step, len(loader)))\n",
        "\n",
        "        batch = [t.to(device) for t in batch]\n",
        "        \n",
        "        #faces, fulls, labels = batch\n",
        "        images, labels = batch\n",
        "\n",
        "        labels = labels.type(torch.LongTensor).to(device)\n",
        "\n",
        "        with torch.no_grad():\n",
        "      \n",
        "            #preds = model(faces, fulls)\n",
        "            preds = model(images)\n",
        "\n",
        "            loss = criterion(preds,labels)\n",
        "\n",
        "            total_loss = total_loss + loss.item()\n",
        "\n",
        "            preds = torch.argmax(preds, dim = 1)\n",
        "\n",
        "            aucroc_ += metric_aucroc(preds, labels.squeeze())\n",
        "\n",
        "            acc_ += metric_accuracy(preds, labels.squeeze())\n",
        "\n",
        "            preds = preds.detach().cpu().numpy()\n",
        "\n",
        "            total_preds.append(preds)\n",
        "\n",
        "    avg_loss = total_loss / len(loader) \n",
        "\n",
        "    avg_aucroc = aucroc_ / len(loader)\n",
        "\n",
        "    avg_acc = acc_ / len(loader)\n",
        "\n",
        "    total_preds  = np.concatenate(total_preds, axis=0)\n",
        "\n",
        "    return avg_loss, avg_acc, avg_aucroc, total_preds"
      ]
    },
    {
      "cell_type": "code",
      "execution_count": null,
      "metadata": {
        "id": "Yi1IoCYKEVU5",
        "outputId": "7a7cab36-599b-494a-d00c-46e9c537a3d9"
      },
      "outputs": [
        {
          "data": {
            "text/plain": [
              "device(type='cuda')"
            ]
          },
          "execution_count": 14,
          "metadata": {},
          "output_type": "execute_result"
        }
      ],
      "source": [
        "device"
      ]
    },
    {
      "cell_type": "code",
      "execution_count": null,
      "metadata": {
        "id": "XHehws7VuhAG"
      },
      "outputs": [],
      "source": [
        "from sklearn.metrics import f1_score\n",
        "# set initial loss to infinite\n",
        "best_valid_loss = float('inf')\n",
        "best_valid_accuracy = float('-inf')\n",
        "best_valid_aucroc = float('-inf')\n",
        "best_valid_score = float('-inf')\n",
        "model_loss = 0\n",
        "model_accuracy = 0\n",
        "model_aucroc = 0\n",
        "model_score = 0\n",
        "\n",
        "# empty lists to store training and validation loss of each epoch\n",
        "train_losses=[]\n",
        "train_accuracies=[]\n",
        "train_aucrocs=[]\n",
        "valid_losses=[]\n",
        "valid_accuracies=[]\n",
        "valid_aucrocs=[]\n",
        "f_scores=[]\n",
        "# test_losses=[]\n",
        "\n",
        "# ys = list(filter_df(df_test.img_labels, False, True)['blur'])\n",
        "\n",
        "#for each epoch\n",
        "for epoch in range(epochs):\n",
        "     \n",
        "    print('\\n Epoch {:} / {:}'.format(epoch + 1, epochs))\n",
        "    train_loss, train_acc, train_aucroc, _ = train()\n",
        "    valid_loss, valid_acc, valid_aucroc, valid_preds = evaluate(val_loader)\n",
        "    scheduler.step(valid_loss)\n",
        "\n",
        "    if valid_loss < best_valid_loss:\n",
        "        best_valid_loss = valid_loss\n",
        "        model_loss = epoch\n",
        "    if valid_acc > best_valid_accuracy:\n",
        "      best_valid_accuracy = valid_acc\n",
        "      model_accuracy = epoch\n",
        "    if valid_aucroc > best_valid_aucroc:\n",
        "      best_valid_aucroc = valid_aucroc\n",
        "      model_aucroc = epoch\n",
        "        \n",
        "    torch.save(model.state_dict(), 'CFT_v7/models_v1/model' + str(epoch) + '.pt')\n",
        "\n",
        "    train_losses.append(train_loss)\n",
        "    train_accuracies.append(train_acc)\n",
        "    train_aucrocs.append(train_aucroc)\n",
        "    valid_losses.append(valid_loss)\n",
        "    valid_accuracies.append(valid_acc)\n",
        "    valid_aucrocs.append(valid_aucroc)\n",
        "\n",
        "    # valid_preds = np.argmax(valid_preds, axis = 1)\n",
        "\n",
        "    f_score = f1_score(list(df_val.img_labels['blur']), valid_preds, average = 'binary')\n",
        "    f_scores.append(f_score)\n",
        "    if best_valid_score < f_score:\n",
        "      best_valid_score = f_score\n",
        "      model_score = epoch\n",
        "    \n",
        "    with open('CFT_v7/train_loss.txt', 'a') as f:\n",
        "        f.write(str(train_loss) + '\\n')\n",
        "        \n",
        "    with open('CFT_v7/valid_loss.txt', 'a') as f:\n",
        "        f.write(str(valid_loss) + '\\n')\n",
        "\n",
        "    with open('CFT_v7/train_accuracy.txt', 'a') as f:\n",
        "        f.write(str(train_acc) + '\\n')\n",
        "        \n",
        "    with open('CFT_v7/valid_accuracy.txt', 'a') as f:\n",
        "        f.write(str(valid_acc) + '\\n')\n",
        "\n",
        "    with open('CFT_v7/train_aucroc.txt', 'a') as f:\n",
        "        f.write(str(train_aucroc) + '\\n')\n",
        "        \n",
        "    with open('CFT_v7/valid_aucroc.txt', 'a') as f:\n",
        "        f.write(str(valid_aucroc) + '\\n')\n",
        "\n",
        "        \n",
        "    # test_loss, preds = evaluate(test_loader)\n",
        "    # test_losses.append(test_loss)\n",
        "    \n",
        "    \n",
        "    # with open('test_loss.txt', 'a') as f:\n",
        "    #     f.write(str(test_loss) + '\\n')\n",
        "        \n",
        "    # preds = np.argmax(preds, axis = 1)\n",
        "    \n",
        "    # f_score = f1_score(list(df_test.img_labels['blur']), preds, average = 'binary')\n",
        "    \n",
        "\n",
        "    print(f'\\nTraining Loss: {train_loss:.3f}')\n",
        "    print(f'\\nTraining Accuracy: {train_acc:.3f}')\n",
        "    print(f'\\nTraining AUROC: {train_aucroc:.3f}')\n",
        "    print(f'\\nValidation Loss: {valid_loss:.3f}')\n",
        "    print(f'\\nValidation Accuracy: {valid_acc:.3f}')\n",
        "    print(f'\\nValidation AUROC: {valid_aucroc:.3f}')\n",
        "    print(f'\\nF-score on val-set: {f_score:.3f}')\n",
        "\n",
        "print(f'\\nBest valid loss in epoch num {model_loss}: {best_valid_loss:.3f}')\n",
        "print(f'\\nBest valid accuracy in epoch num {model_accuracy}: {best_valid_accuracy:.3f}')\n",
        "print(f'\\nBest valid aucroc in epoch num {model_aucroc}: {best_valid_aucroc:.3f}')\n",
        "print(f'\\nBest valid score in epoch num {model_score}: {best_valid_score:.3f}')"
      ]
    },
    {
      "cell_type": "code",
      "execution_count": null,
      "metadata": {
        "colab": {
          "base_uri": "https://localhost:8080/",
          "height": 279
        },
        "id": "MwaCENIT8tWT",
        "outputId": "7851f74b-a473-4cb6-d775-07518309c626"
      },
      "outputs": [
        {
          "data": {
            "image/png": "[encoded data removed]",
            "text/plain": [
              "<Figure size 432x288 with 1 Axes>"
            ]
          },
          "metadata": {
            "needs_background": "light"
          },
          "output_type": "display_data"
        }
      ],
      "source": [
        "plt.plot([i for i in range(epochs)], train_losses)\n",
        "plt.xlabel('epochs')\n",
        "plt.ylabel('train_losses')\n",
        "plt.show()"
      ]
    },
    {
      "cell_type": "code",
      "execution_count": null,
      "metadata": {
        "colab": {
          "base_uri": "https://localhost:8080/",
          "height": 279
        },
        "id": "2fUawaRU8tS8",
        "outputId": "5e756a4b-ddb2-4c64-c6b0-e3ae1147d0d8"
      },
      "outputs": [
        {
          "data": {
            "image/png": "[encoded data removed]",
            "text/plain": [
              "<Figure size 432x288 with 1 Axes>"
            ]
          },
          "metadata": {
            "needs_background": "light"
          },
          "output_type": "display_data"
        }
      ],
      "source": [
        "train_aur = []\n",
        "for aur in train_aucrocs:\n",
        "  train_aur.append(aur.detach().cpu().numpy())\n",
        "plt.plot([i for i in range(epochs)], train_aur)\n",
        "plt.xlabel('epochs')\n",
        "plt.ylabel('train_aucrocs')\n",
        "plt.show()"
      ]
    },
    {
      "cell_type": "code",
      "execution_count": null,
      "metadata": {
        "colab": {
          "base_uri": "https://localhost:8080/",
          "height": 279
        },
        "id": "0yu8N9gp8tP0",
        "outputId": "021993ae-2962-4195-d208-5efc63516bb8"
      },
      "outputs": [
        {
          "data": {
            "image/png": "[encoded data removed]",
            "text/plain": [
              "<Figure size 432x288 with 1 Axes>"
            ]
          },
          "metadata": {
            "needs_background": "light"
          },
          "output_type": "display_data"
        }
      ],
      "source": [
        "train_accs = []\n",
        "for acc in train_accuracies:\n",
        "  train_accs.append(acc.detach().cpu().numpy())\n",
        "plt.plot([i for i in range(epochs)], train_accs)\n",
        "plt.xlabel('epochs')\n",
        "plt.ylabel('train_accuracies')\n",
        "plt.show()"
      ]
    },
    {
      "cell_type": "code",
      "execution_count": null,
      "metadata": {
        "colab": {
          "base_uri": "https://localhost:8080/",
          "height": 279
        },
        "id": "UT1xYPsE8tMo",
        "outputId": "cfb6a8e3-6a72-4553-cc1b-17ec99c1a7a5"
      },
      "outputs": [
        {
          "data": {
            "image/png": "[encoded data removed]",
            "text/plain": [
              "<Figure size 432x288 with 1 Axes>"
            ]
          },
          "metadata": {
            "needs_background": "light"
          },
          "output_type": "display_data"
        }
      ],
      "source": [
        "plt.plot([i for i in range(epochs)], valid_losses)\n",
        "plt.xlabel('epochs')\n",
        "plt.ylabel('valid_losses')\n",
        "plt.show()"
      ]
    },
    {
      "cell_type": "code",
      "execution_count": null,
      "metadata": {
        "colab": {
          "base_uri": "https://localhost:8080/",
          "height": 279
        },
        "id": "p7K9IxRE8tEE",
        "outputId": "d1a8aed4-5956-487a-ea3a-7787c164dccd"
      },
      "outputs": [
        {
          "data": {
            "image/png": "[encoded data removed]",
            "text/plain": [
              "<Figure size 432x288 with 1 Axes>"
            ]
          },
          "metadata": {
            "needs_background": "light"
          },
          "output_type": "display_data"
        }
      ],
      "source": [
        "valid_aur = []\n",
        "for aur in valid_aucrocs:\n",
        "  valid_aur.append(aur.detach().cpu().numpy())\n",
        "plt.plot([i for i in range(epochs)], valid_aur)\n",
        "plt.xlabel('epochs')\n",
        "plt.ylabel('valid_aucrocs')\n",
        "plt.show()"
      ]
    },
    {
      "cell_type": "code",
      "execution_count": null,
      "metadata": {
        "colab": {
          "base_uri": "https://localhost:8080/",
          "height": 279
        },
        "id": "Q0U8f-A0b_Sk",
        "outputId": "9fcb4290-f018-4367-ef4f-881d01d53edf"
      },
      "outputs": [
        {
          "data": {
            "image/png": "[encoded data removed]",
            "text/plain": [
              "<Figure size 432x288 with 1 Axes>"
            ]
          },
          "metadata": {
            "needs_background": "light"
          },
          "output_type": "display_data"
        }
      ],
      "source": [
        "valid_accs = []\n",
        "for acc in valid_accuracies:\n",
        "  valid_accs.append(acc.detach().cpu().numpy())\n",
        "plt.plot([i for i in range(epochs)], valid_accs)\n",
        "plt.xlabel('epochs')\n",
        "plt.ylabel('valid_accuracies')\n",
        "plt.show()"
      ]
    },
    {
      "cell_type": "code",
      "execution_count": null,
      "metadata": {
        "colab": {
          "base_uri": "https://localhost:8080/",
          "height": 279
        },
        "id": "HHX6qD8iH3py",
        "outputId": "8b495b2a-0d55-46b7-8bbf-da9058e2a1e3"
      },
      "outputs": [
        {
          "data": {
            "image/png": "[encoded data removed]",
            "text/plain": [
              "<Figure size 432x288 with 1 Axes>"
            ]
          },
          "metadata": {
            "needs_background": "light"
          },
          "output_type": "display_data"
        }
      ],
      "source": [
        "plt.plot([i for i in range(epochs)], f_scores)\n",
        "plt.xlabel('epochs')\n",
        "plt.ylabel('f_scores')\n",
        "plt.show()"
      ]
    },
    {
      "cell_type": "code",
      "execution_count": null,
      "metadata": {
        "id": "cXtjQ85VIUVx"
      },
      "outputs": [],
      "source": [
        "for f_score in f_scores:\n",
        "  with open('f_scores.txt', 'a') as f:\n",
        "        f.write(str(f_score) + '\\n')"
      ]
    },
    {
      "cell_type": "code",
      "execution_count": null,
      "metadata": {
        "colab": {
          "base_uri": "https://localhost:8080/"
        },
        "id": "sw0coEjkT6vr",
        "outputId": "b285ba7f-b89d-4d31-9507-4dc1039c11da"
      },
      "outputs": [
        {
          "name": "stderr",
          "output_type": "stream",
          "text": [
            "Using cache found in /root/.cache/torch/hub/pytorch_vision_v0.10.0\n",
            "/usr/local/lib/python3.8/dist-packages/torchvision/models/_utils.py:208: UserWarning: The parameter 'pretrained' is deprecated since 0.13 and may be removed in the future, please use 'weights' instead.\n",
            "  warnings.warn(\n",
            "/usr/local/lib/python3.8/dist-packages/torchvision/models/_utils.py:223: UserWarning: Arguments other than a weight enum or `None` for 'weights' are deprecated since 0.13 and may be removed in the future. The current behavior is equivalent to passing `weights=ResNet50_Weights.IMAGENET1K_V1`. You can also use `weights=ResNet50_Weights.DEFAULT` to get the most up-to-date weights.\n",
            "  warnings.warn(msg)\n"
          ]
        }
      ],
      "source": [
        "model = MyModel().to(device)\n",
        "checkpoint = torch.load('/content/models_v1/model17.pt')\n",
        "model.load_state_dict(checkpoint)\n",
        "tst = pd.read_csv('/content/drive/MyDrive/shift-cv-winter-2023/sample_submission.csv')\n",
        "df_test = CustomImageDataset(tst, '/content/drive/MyDrive/shift-cv-winter-2023/test/test/')\n",
        "test_loader = DataLoader(df_test, 32, shuffle=False)"
      ]
    },
    {
      "cell_type": "code",
      "execution_count": null,
      "metadata": {
        "colab": {
          "base_uri": "https://localhost:8080/"
        },
        "id": "WYCut8lDUo76",
        "outputId": "5cb53fa1-0d39-41a4-be4c-9d0409f631d9"
      },
      "outputs": [
        {
          "name": "stdout",
          "output_type": "stream",
          "text": [
            "\n",
            "Evaluating...\n"
          ]
        },
        {
          "name": "stderr",
          "output_type": "stream",
          "text": [
            "/usr/local/lib/python3.8/dist-packages/torchmetrics/utilities/prints.py:36: UserWarning: No positive samples in targets, true positive value should be meaningless. Returning zero tensor in true positive score\n",
            "  warnings.warn(*args, **kwargs)\n"
          ]
        }
      ],
      "source": [
        "test_loss, test_acc, test_aucroc, test_preds = evaluate(test_loader)"
      ]
    },
    {
      "cell_type": "code",
      "execution_count": null,
      "metadata": {
        "id": "VRn185uoV_-9"
      },
      "outputs": [],
      "source": [
        "tst['blur'] = test_preds"
      ]
    },
    {
      "cell_type": "code",
      "execution_count": null,
      "metadata": {
        "colab": {
          "base_uri": "https://localhost:8080/",
          "height": 864
        },
        "id": "WRq4RBxmWEVr",
        "outputId": "e7aff5c2-ff30-4d4f-bf7b-3e3255e00974"
      },
      "outputs": [
        {
          "data": {
            "text/html": [
              "\n",
              "  <div id=\"df-64873f5e-5f8f-4916-b019-e83dcc1ba3f2\">\n",
              "    <div class=\"colab-df-container\">\n",
              "      <div>\n",
              "<style scoped>\n",
              "    .dataframe tbody tr th:only-of-type {\n",
              "        vertical-align: middle;\n",
              "    }\n",
              "\n",
              "    .dataframe tbody tr th {\n",
              "        vertical-align: top;\n",
              "    }\n",
              "\n",
              "    .dataframe thead th {\n",
              "        text-align: right;\n",
              "    }\n",
              "</style>\n",
              "<table border=\"1\" class=\"dataframe\">\n",
              "  <thead>\n",
              "    <tr style=\"text-align: right;\">\n",
              "      <th></th>\n",
              "      <th>filename</th>\n",
              "      <th>blur</th>\n",
              "    </tr>\n",
              "  </thead>\n",
              "  <tbody>\n",
              "    <tr>\n",
              "      <th>0</th>\n",
              "      <td>bnxzvzqlzlnnbxfkcuin.jpg</td>\n",
              "      <td>0</td>\n",
              "    </tr>\n",
              "    <tr>\n",
              "      <th>1</th>\n",
              "      <td>powqsnpoynygwqsciedp.jpg</td>\n",
              "      <td>1</td>\n",
              "    </tr>\n",
              "    <tr>\n",
              "      <th>2</th>\n",
              "      <td>zpjlbfhurhygjnqccpii.jpg</td>\n",
              "      <td>0</td>\n",
              "    </tr>\n",
              "    <tr>\n",
              "      <th>3</th>\n",
              "      <td>klqqjqnnvyeemvkavivp.jpg</td>\n",
              "      <td>0</td>\n",
              "    </tr>\n",
              "    <tr>\n",
              "      <th>4</th>\n",
              "      <td>qwhvkcwctjllkdxaycvj.jpg</td>\n",
              "      <td>0</td>\n",
              "    </tr>\n",
              "    <tr>\n",
              "      <th>5</th>\n",
              "      <td>rotatyptdlbhvgylappa.jpg</td>\n",
              "      <td>0</td>\n",
              "    </tr>\n",
              "    <tr>\n",
              "      <th>6</th>\n",
              "      <td>oxreycouvsvrgwtdhpdh.jpg</td>\n",
              "      <td>1</td>\n",
              "    </tr>\n",
              "    <tr>\n",
              "      <th>7</th>\n",
              "      <td>xnhvzrldpchzofmqscae.jpg</td>\n",
              "      <td>0</td>\n",
              "    </tr>\n",
              "    <tr>\n",
              "      <th>8</th>\n",
              "      <td>mldswcksdrurhqxqtwhe.jpg</td>\n",
              "      <td>0</td>\n",
              "    </tr>\n",
              "    <tr>\n",
              "      <th>9</th>\n",
              "      <td>mhcfehkynsmohqgnkwbh.jpg</td>\n",
              "      <td>1</td>\n",
              "    </tr>\n",
              "    <tr>\n",
              "      <th>10</th>\n",
              "      <td>ocplzwzmojinombjabty.jpg</td>\n",
              "      <td>1</td>\n",
              "    </tr>\n",
              "    <tr>\n",
              "      <th>11</th>\n",
              "      <td>xgrcgucfvphduvgsmcms.jpg</td>\n",
              "      <td>0</td>\n",
              "    </tr>\n",
              "    <tr>\n",
              "      <th>12</th>\n",
              "      <td>xvytvkfcfyakwagknzog.jpg</td>\n",
              "      <td>0</td>\n",
              "    </tr>\n",
              "    <tr>\n",
              "      <th>13</th>\n",
              "      <td>hzxlftrpgsnomzcbidlp.jpg</td>\n",
              "      <td>0</td>\n",
              "    </tr>\n",
              "    <tr>\n",
              "      <th>14</th>\n",
              "      <td>ozungexywdyyardbukbs.jpg</td>\n",
              "      <td>1</td>\n",
              "    </tr>\n",
              "    <tr>\n",
              "      <th>15</th>\n",
              "      <td>brhkskjxaltuplkduekb.jpg</td>\n",
              "      <td>0</td>\n",
              "    </tr>\n",
              "    <tr>\n",
              "      <th>16</th>\n",
              "      <td>wcawuumbmwrpvcywwmnh.jpg</td>\n",
              "      <td>1</td>\n",
              "    </tr>\n",
              "    <tr>\n",
              "      <th>17</th>\n",
              "      <td>lwfeiyzckugcelrzljtg.jpg</td>\n",
              "      <td>0</td>\n",
              "    </tr>\n",
              "    <tr>\n",
              "      <th>18</th>\n",
              "      <td>ndnqtgwdbthcsplzfzmu.jpg</td>\n",
              "      <td>1</td>\n",
              "    </tr>\n",
              "    <tr>\n",
              "      <th>19</th>\n",
              "      <td>pqcqnfmvenruswzzclcl.jpg</td>\n",
              "      <td>0</td>\n",
              "    </tr>\n",
              "    <tr>\n",
              "      <th>20</th>\n",
              "      <td>sxycngmpjaxdmnvasgny.jpg</td>\n",
              "      <td>0</td>\n",
              "    </tr>\n",
              "    <tr>\n",
              "      <th>21</th>\n",
              "      <td>vghlzcssurwbdcoloyhr.jpg</td>\n",
              "      <td>0</td>\n",
              "    </tr>\n",
              "    <tr>\n",
              "      <th>22</th>\n",
              "      <td>gmbsiygtbedxanchuzxo.jpg</td>\n",
              "      <td>1</td>\n",
              "    </tr>\n",
              "    <tr>\n",
              "      <th>23</th>\n",
              "      <td>mksdiqwavlwujcxbboee.jpg</td>\n",
              "      <td>0</td>\n",
              "    </tr>\n",
              "    <tr>\n",
              "      <th>24</th>\n",
              "      <td>cxspufsqkzcprmtorxpt.jpg</td>\n",
              "      <td>1</td>\n",
              "    </tr>\n",
              "    <tr>\n",
              "      <th>25</th>\n",
              "      <td>azvrvnfqanrhegrxkroh.jpg</td>\n",
              "      <td>1</td>\n",
              "    </tr>\n",
              "  </tbody>\n",
              "</table>\n",
              "</div>\n",
              "      <button class=\"colab-df-convert\" onclick=\"convertToInteractive('df-64873f5e-5f8f-4916-b019-e83dcc1ba3f2')\"\n",
              "              title=\"Convert this dataframe to an interactive table.\"\n",
              "              style=\"display:none;\">\n",
              "        \n",
              "  <svg xmlns=\"http://www.w3.org/2000/svg\" height=\"24px\"viewBox=\"0 0 24 24\"\n",
              "       width=\"24px\">\n",
              "    <path d=\"M0 0h24v24H0V0z\" fill=\"none\"/>\n",
              "    <path d=\"M18.56 5.44l.94 2.06.94-2.06 2.06-.94-2.06-.94-.94-2.06-.94 2.06-2.06.94zm-11 1L8.5 8.5l.94-2.06 2.06-.94-2.06-.94L8.5 2.5l-.94 2.06-2.06.94zm10 10l.94 2.06.94-2.06 2.06-.94-2.06-.94-.94-2.06-.94 2.06-2.06.94z\"/><path d=\"M17.41 7.96l-1.37-1.37c-.4-.4-.92-.59-1.43-.59-.52 0-1.04.2-1.43.59L10.3 9.45l-7.72 7.72c-.78.78-.78 2.05 0 2.83L4 21.41c.39.39.9.59 1.41.59.51 0 1.02-.2 1.41-.59l7.78-7.78 2.81-2.81c.8-.78.8-2.07 0-2.86zM5.41 20L4 18.59l7.72-7.72 1.47 1.35L5.41 20z\"/>\n",
              "  </svg>\n",
              "      </button>\n",
              "      \n",
              "  <style>\n",
              "    .colab-df-container {\n",
              "      display:flex;\n",
              "      flex-wrap:wrap;\n",
              "      gap: 12px;\n",
              "    }\n",
              "\n",
              "    .colab-df-convert {\n",
              "      background-color: #E8F0FE;\n",
              "      border: none;\n",
              "      border-radius: 50%;\n",
              "      cursor: pointer;\n",
              "      display: none;\n",
              "      fill: #1967D2;\n",
              "      height: 32px;\n",
              "      padding: 0 0 0 0;\n",
              "      width: 32px;\n",
              "    }\n",
              "\n",
              "    .colab-df-convert:hover {\n",
              "      background-color: #E2EBFA;\n",
              "      box-shadow: 0px 1px 2px rgba(60, 64, 67, 0.3), 0px 1px 3px 1px rgba(60, 64, 67, 0.15);\n",
              "      fill: #174EA6;\n",
              "    }\n",
              "\n",
              "    [theme=dark] .colab-df-convert {\n",
              "      background-color: #3B4455;\n",
              "      fill: #D2E3FC;\n",
              "    }\n",
              "\n",
              "    [theme=dark] .colab-df-convert:hover {\n",
              "      background-color: #434B5C;\n",
              "      box-shadow: 0px 1px 3px 1px rgba(0, 0, 0, 0.15);\n",
              "      filter: drop-shadow(0px 1px 2px rgba(0, 0, 0, 0.3));\n",
              "      fill: #FFFFFF;\n",
              "    }\n",
              "  </style>\n",
              "\n",
              "      <script>\n",
              "        const buttonEl =\n",
              "          document.querySelector('#df-64873f5e-5f8f-4916-b019-e83dcc1ba3f2 button.colab-df-convert');\n",
              "        buttonEl.style.display =\n",
              "          google.colab.kernel.accessAllowed ? 'block' : 'none';\n",
              "\n",
              "        async function convertToInteractive(key) {\n",
              "          const element = document.querySelector('#df-64873f5e-5f8f-4916-b019-e83dcc1ba3f2');\n",
              "          const dataTable =\n",
              "            await google.colab.kernel.invokeFunction('convertToInteractive',\n",
              "                                                     [key], {});\n",
              "          if (!dataTable) return;\n",
              "\n",
              "          const docLinkHtml = 'Like what you see? Visit the ' +\n",
              "            '<a target=\"_blank\" href=https://colab.research.google.com/notebooks/data_table.ipynb>data table notebook</a>'\n",
              "            + ' to learn more about interactive tables.';\n",
              "          element.innerHTML = '';\n",
              "          dataTable['output_type'] = 'display_data';\n",
              "          await google.colab.output.renderOutput(dataTable, element);\n",
              "          const docLink = document.createElement('div');\n",
              "          docLink.innerHTML = docLinkHtml;\n",
              "          element.appendChild(docLink);\n",
              "        }\n",
              "      </script>\n",
              "    </div>\n",
              "  </div>\n",
              "  "
            ],
            "text/plain": [
              "                    filename  blur\n",
              "0   bnxzvzqlzlnnbxfkcuin.jpg     0\n",
              "1   powqsnpoynygwqsciedp.jpg     1\n",
              "2   zpjlbfhurhygjnqccpii.jpg     0\n",
              "3   klqqjqnnvyeemvkavivp.jpg     0\n",
              "4   qwhvkcwctjllkdxaycvj.jpg     0\n",
              "5   rotatyptdlbhvgylappa.jpg     0\n",
              "6   oxreycouvsvrgwtdhpdh.jpg     1\n",
              "7   xnhvzrldpchzofmqscae.jpg     0\n",
              "8   mldswcksdrurhqxqtwhe.jpg     0\n",
              "9   mhcfehkynsmohqgnkwbh.jpg     1\n",
              "10  ocplzwzmojinombjabty.jpg     1\n",
              "11  xgrcgucfvphduvgsmcms.jpg     0\n",
              "12  xvytvkfcfyakwagknzog.jpg     0\n",
              "13  hzxlftrpgsnomzcbidlp.jpg     0\n",
              "14  ozungexywdyyardbukbs.jpg     1\n",
              "15  brhkskjxaltuplkduekb.jpg     0\n",
              "16  wcawuumbmwrpvcywwmnh.jpg     1\n",
              "17  lwfeiyzckugcelrzljtg.jpg     0\n",
              "18  ndnqtgwdbthcsplzfzmu.jpg     1\n",
              "19  pqcqnfmvenruswzzclcl.jpg     0\n",
              "20  sxycngmpjaxdmnvasgny.jpg     0\n",
              "21  vghlzcssurwbdcoloyhr.jpg     0\n",
              "22  gmbsiygtbedxanchuzxo.jpg     1\n",
              "23  mksdiqwavlwujcxbboee.jpg     0\n",
              "24  cxspufsqkzcprmtorxpt.jpg     1\n",
              "25  azvrvnfqanrhegrxkroh.jpg     1"
            ]
          },
          "execution_count": 51,
          "metadata": {},
          "output_type": "execute_result"
        }
      ],
      "source": [
        "tst.head(26)"
      ]
    },
    {
      "cell_type": "code",
      "execution_count": null,
      "metadata": {
        "id": "sha297t4XZQN"
      },
      "outputs": [],
      "source": [
        "tst.to_csv('test_v2.csv')"
      ]
    },
    {
      "cell_type": "code",
      "source": [],
      "metadata": {
        "id": "biSk4jkhFf7x"
      },
      "execution_count": null,
      "outputs": []
    }
  ],
  "metadata": {
    "accelerator": "GPU",
    "colab": {
      "provenance": []
    },
    "gpuClass": "standard",
    "kernelspec": {
      "display_name": "env",
      "language": "python",
      "name": "python3"
    },
    "language_info": {
      "codemirror_mode": {
        "name": "ipython",
        "version": 3
      },
      "file_extension": ".py",
      "mimetype": "text/x-python",
      "name": "python",
      "nbconvert_exporter": "python",
      "pygments_lexer": "ipython3",
      "version": "3.9.13"
    },
    "vscode": {
      "interpreter": {
        "hash": "7997f5b9efe76eb8aa1bc48da176dad82b6dc851f11a02d8062d07ac9ecde5c4"
      }
    }
  },
  "nbformat": 4,
  "nbformat_minor": 0
}